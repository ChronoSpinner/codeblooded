{
 "cells": [
  {
   "cell_type": "code",
   "execution_count": 1,
   "id": "1433dbcc-7bf1-4606-8ee3-40de5972bc85",
   "metadata": {},
   "outputs": [],
   "source": [
    "import pandas as pd\n",
    "import numpy as np\n",
    "from sklearn.model_selection import train_test_split, cross_val_score\n",
    "from sklearn.cross_decomposition import PLSRegression\n",
    "from sklearn.preprocessing import StandardScaler\n",
    "from sklearn.metrics import r2_score, mean_squared_error, mean_absolute_error"
   ]
  },
  {
   "cell_type": "code",
   "execution_count": 2,
   "id": "44d86eff-e6e0-42d3-b5c4-670c9f12aecd",
   "metadata": {},
   "outputs": [],
   "source": [
    "# Load dataset\n",
    "df = pd.read_csv(\"nirscan_nano.csv\")\n",
    "\n",
    "# Remove rows where TS is NaN\n",
    "df = df.dropna(subset=[\"TS\"])\n",
    "\n",
    "# Outlier removal using IQR on TS\n",
    "Q1 = df[\"TS\"].quantile(0.25)\n",
    "Q3 = df[\"TS\"].quantile(0.75)\n",
    "IQR = Q3 - Q1\n",
    "df = df[(df[\"TS\"] >= Q1 - 1.5 * IQR) & (df[\"TS\"] <= Q3 + 1.5 * IQR)]"
   ]
  },
  {
   "cell_type": "code",
   "execution_count": 3,
   "id": "ef6718b2-b6e6-4ab0-b489-1e24160ca369",
   "metadata": {},
   "outputs": [],
   "source": [
    "# Features and target\n",
    "X = df.drop(columns=[\"TS\"])\n",
    "y = df[\"TS\"]\n",
    "\n",
    "# Feature scaling\n",
    "scaler = StandardScaler()\n",
    "X_scaled = scaler.fit_transform(X)\n",
    "\n"
   ]
  },
  {
   "cell_type": "code",
   "execution_count": 4,
   "id": "c00af5a2-8861-4655-af19-ec16e33da67a",
   "metadata": {},
   "outputs": [],
   "source": [
    "# Split into train and test\n",
    "X_train, X_test, y_train, y_test = train_test_split(X_scaled, y, test_size=0.2)\n",
    "\n",
    "# Find best number of PLS components\n",
    "best_r2 = -1\n",
    "best_n = 1\n"
   ]
  },
  {
   "cell_type": "code",
   "execution_count": 5,
   "id": "9f1663c6-25f5-44c9-ade8-fb05248df8d5",
   "metadata": {},
   "outputs": [],
   "source": [
    "# Train final model\n",
    "pls = PLSRegression(n_components=9)\n",
    "pls.fit(X_train, y_train)\n",
    "\n",
    "# Predict\n",
    "y_pred = pls.predict(X_test)"
   ]
  },
  {
   "cell_type": "code",
   "execution_count": 6,
   "id": "8e0e16a9-5033-4057-a45e-20f5a8edde5d",
   "metadata": {},
   "outputs": [
    {
     "name": "stdout",
     "output_type": "stream",
     "text": [
      "R²: 0.9742929049547578\n",
      "RMSE: 2.4524836272868025\n",
      "MAE: 1.9925280710827824\n"
     ]
    }
   ],
   "source": [
    "# Evaluation\n",
    "r2 = r2_score(y_test, y_pred)\n",
    "rmse = np.sqrt(mean_squared_error(y_test, y_pred))  # RMSE manually\n",
    "mae = mean_absolute_error(y_test, y_pred)\n",
    "\n",
    "print(\"R²:\", r2)\n",
    "print(\"RMSE:\", rmse)\n",
    "print(\"MAE:\", mae)\n"
   ]
  },
  {
   "cell_type": "code",
   "execution_count": 7,
   "id": "cd42fadf-da34-4365-b2cf-8e7369cfd602",
   "metadata": {},
   "outputs": [],
   "source": [
    "def predict_from_csv(file_path, output_file):\n",
    "    # Load new data\n",
    "    new_data = pd.read_csv(file_path)\n",
    "\n",
    "    # Drop target column if it exists (we only need features)\n",
    "    if 'TS' in new_data.columns:\n",
    "        new_data = new_data.drop(columns=['TS'])\n",
    "\n",
    "    # Reorder columns to match training features\n",
    "    new_data = new_data[X.columns]\n",
    "\n",
    "    # Scale the new data\n",
    "    new_data_scaled = scaler.transform(new_data)\n",
    "\n",
    "    # Predict\n",
    "    predictions = pls.predict(new_data_scaled)\n",
    "\n",
    "    # Save predictions as a single column\n",
    "    pd.DataFrame(predictions, columns=[\"Predicted_TS\"]).to_csv(output_file, index=False)\n",
    "    print(f\"Predictions saved to {output_file}\")\n"
   ]
  },
  {
   "cell_type": "code",
   "execution_count": 8,
   "id": "de7ae263-13c6-46d7-b144-06bf24713003",
   "metadata": {},
   "outputs": [
    {
     "name": "stdout",
     "output_type": "stream",
     "text": [
      "Predictions saved to predicted_output.csv\n"
     ]
    }
   ],
   "source": [
    "# Example usage (make sure to give correct path to your file)\n",
    "predict_from_csv(\"input.csv\", \"predicted_output.csv\")"
   ]
  }
 ],
 "metadata": {
  "kernelspec": {
   "display_name": "Python 3 (ipykernel)",
   "language": "python",
   "name": "python3"
  },
  "language_info": {
   "codemirror_mode": {
    "name": "ipython",
    "version": 3
   },
   "file_extension": ".py",
   "mimetype": "text/x-python",
   "name": "python",
   "nbconvert_exporter": "python",
   "pygments_lexer": "ipython3",
   "version": "3.11.9"
  }
 },
 "nbformat": 4,
 "nbformat_minor": 5
}
